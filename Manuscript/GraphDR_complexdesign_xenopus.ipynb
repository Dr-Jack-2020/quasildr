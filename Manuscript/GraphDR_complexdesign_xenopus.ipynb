{
 "cells": [
  {
   "cell_type": "code",
   "execution_count": 1,
   "metadata": {},
   "outputs": [
    {
     "name": "stderr",
     "output_type": "stream",
     "text": [
      "/mnt/home/jzhou/anaconda2/envs/drgraph/lib/python3.7/site-packages/anndata/core/anndata.py:17: FutureWarning: pandas.core.index is deprecated and will be removed in a future version.  The public classes are available in the top-level namespace.\n",
      "  from pandas.core.index import RangeIndex\n"
     ]
    }
   ],
   "source": [
    "#xenopus_briggs2018\n",
    "import pandas as pd\n",
    "import numpy as np\n",
    "from scipy.sparse import csr_matrix\n",
    "import scanpy.api as sc\n",
    "from sklearn.decomposition import PCA\n",
    "from sklearn.neighbors import NearestNeighbors\n",
    "from scipy.stats import binom\n",
    "\n",
    "from quasildr.graphdr import graphdr\n",
    "\n",
    "adata=pd.read_csv('./data/other/briggs_2018.data.gz', sep='\\t')\n",
    "anno=pd.read_csv('./data/other/briggs_2018.anno', sep='\\t')\n",
    "adata = adata.iloc[:,anno['Cluster_name'].values!='Outlier']\n",
    "anno = anno.iloc[anno['Cluster_name'].values!='Outlier',:]\n",
    "\n",
    "anno['Time']=anno['Developmental_stage'].str.replace('Stage_','').map(float)\n",
    "\n",
    "datapca=PCA(50).fit_transform(adata.values.T)\n",
    "\n",
    "stages = np.unique(anno['Developmental_stage'])\n",
    "stages = stages[-1:].tolist() + stages[:-1].tolist()\n",
    "\n",
    "def ksmooth(x, k, rescale_k=False):\n",
    "    if rescale_k and k > 1. / 0.632:\n",
    "        k = k * 0.632\n",
    "    return np.maximum(1-binom.cdf(np.maximum(x-k-1,0), x-1, .632), x<=k)\n",
    "\n",
    "\n",
    "m='correlation'\n",
    "l=100000\n",
    "k=5\n",
    "s=[]\n",
    "t=[]\n",
    "w=[]\n",
    "for i in range(len(stages)-1):\n",
    "    for r in np.unique(anno['Replicate_name'][anno['Developmental_stage'].values==stages[i]]):\n",
    "        nn_stage=NearestNeighbors(k,metric=m).fit(datapca[(anno['Developmental_stage'].values==stages[i])*np.asarray(anno['Replicate_name']==r),:])\n",
    "        _, ind = nn_stage.kneighbors(datapca[ (anno['Developmental_stage'].values==stages[i+1]),:], k)\n",
    "        s.append(np.repeat(np.argwhere((anno['Developmental_stage'].values==stages[i+1])), ind.shape[1]))\n",
    "        t.append(np.argwhere((anno['Developmental_stage'].values==stages[i])*np.asarray(anno['Replicate_name']==r))[ind].flatten())\n",
    "        w.append(1*ksmooth(np.tile(np.arange(1,k+1),np.sum(anno['Developmental_stage'].values==stages[i+1])),k=1,rescale_k=False))\n",
    "\n",
    "for i in range(1,len(stages)):\n",
    "    for r in np.unique(anno['Replicate_name'][anno['Developmental_stage'].values==stages[i]]):\n",
    "        nn_stage=NearestNeighbors(k,metric=m).fit(datapca[(anno['Developmental_stage'].values==stages[i])*np.asarray(anno['Replicate_name']==r),:])\n",
    "        _, ind = nn_stage.kneighbors(datapca[ (anno['Developmental_stage'].values==stages[i-1]),:], k)\n",
    "        s.append(np.repeat(np.argwhere((anno['Developmental_stage'].values==stages[i-1])), ind.shape[1]))\n",
    "        t.append(np.argwhere((anno['Developmental_stage'].values==stages[i])*np.asarray(anno['Replicate_name']==r))[ind].flatten())\n",
    "        w.append(1*ksmooth(np.tile(np.arange(1,k+1),np.sum(anno['Developmental_stage'].values==stages[i-1])),k=1,rescale_k=False))\n",
    "\n",
    "\n",
    "for i in range(len(stages)):\n",
    "    for r in np.unique(anno['Replicate_name'][anno['Developmental_stage'].values==stages[i]]):\n",
    "        nn_stage=NearestNeighbors(k,metric=m).fit(datapca[(anno['Developmental_stage'].values==stages[i])*np.asarray(anno['Replicate_name']==r),:])\n",
    "        _, ind = nn_stage.kneighbors(datapca[ (anno['Developmental_stage'].values==stages[i]),:], k)\n",
    "        s.append(np.repeat(np.argwhere((anno['Developmental_stage'].values==stages[i])), ind.shape[1]))\n",
    "        t.append(np.argwhere((anno['Developmental_stage'].values==stages[i])*np.asarray(anno['Replicate_name']==r))[ind].flatten())\n",
    "        w.append(1*ksmooth(np.tile(np.arange(1,k+1),np.sum(anno['Developmental_stage'].values==stages[i])),k=1,rescale_k=False))\n",
    "\n",
    "\n",
    "\n",
    "g = csr_matrix((np.concatenate(w),(np.concatenate(s).astype(np.int),np.concatenate(t).astype(np.int))),(datapca.shape[0],datapca.shape[0]))\n"
   ]
  },
  {
   "cell_type": "code",
   "execution_count": 2,
   "metadata": {},
   "outputs": [],
   "source": [
    "Zt=graphdr(datapca, custom_graph = g, _lambda=l, refine_iter=0, rescale=True)\n",
    "\n",
    "pd.DataFrame(Zt,index=adata.columns, columns=['D'+str(i) for i in range(Zt.shape[1])]).to_csv(\n",
    " './figures/xenopus_briggs2018.graphdr.txt',index_label=False,sep='\\t')\n"
   ]
  }
 ],
 "metadata": {
  "kernelspec": {
   "display_name": "Python 3",
   "language": "python",
   "name": "python3"
  },
  "language_info": {
   "codemirror_mode": {
    "name": "ipython",
    "version": 3
   },
   "file_extension": ".py",
   "mimetype": "text/x-python",
   "name": "python",
   "nbconvert_exporter": "python",
   "pygments_lexer": "ipython3",
   "version": "3.7.3"
  }
 },
 "nbformat": 4,
 "nbformat_minor": 4
}
