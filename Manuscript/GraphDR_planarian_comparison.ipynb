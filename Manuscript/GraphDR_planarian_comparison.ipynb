{
 "cells": [
  {
   "cell_type": "code",
   "execution_count": 1,
   "metadata": {},
   "outputs": [
    {
     "name": "stderr",
     "output_type": "stream",
     "text": [
      "/mnt/home/jzhou/anaconda2/envs/drgraph/lib/python3.7/site-packages/anndata/core/anndata.py:17: FutureWarning: pandas.core.index is deprecated and will be removed in a future version.  The public classes are available in the top-level namespace.\n",
      "  from pandas.core.index import RangeIndex\n"
     ]
    }
   ],
   "source": [
    "import pandas as pd\n",
    "import numpy as np\n",
    "import scanpy.api as sc\n",
    "from sklearn.decomposition import PCA\n",
    "from quasildr.graphdr import graphdr\n",
    "\n",
    "#Planarian comparisons\n",
    "\n",
    "data1 =  pd.read_csv('./data/other/fincher_2018.data.gz',sep='\\t',index_col=0)\n",
    "data2  = pd.read_csv('./data/other/plass_2018.full.data.gz',sep='\\t')\n",
    "\n",
    "\n",
    "inddict = dict(zip(data1.index.str.replace('dd_Smed_v4_','').str.replace('_[0-9]+$',''),range(data1.shape[0])))\n",
    "temp = []\n",
    "for i in  data2.index.str.replace('dd_Smed_v6_',''):\n",
    "    if i in inddict:\n",
    "        temp.append(inddict[i])\n",
    "    else:\n",
    "        temp.append(-1)\n",
    "temp = np.asarray(temp)\n",
    "\n",
    "data1 = data1.iloc[temp,:]\n",
    "data1 = data1.iloc[temp!=-1,:]\n",
    "data2 = data2.iloc[temp!=-1,:]\n",
    "\n",
    "\n",
    "#Use a common linear dimensionality reduction for both datasets\n",
    "adata = sc.AnnData(np.hstack([data1,data2]).T, np.concatenate([data1.columns.values,data2.columns.values]))\n",
    "adata.var_names_make_unique()\n",
    "adata.obs_names_make_unique()\n",
    "\n",
    "sc.pp.recipe_zheng17(adata)\n",
    "sc.tl.pca(adata)\n",
    "\n",
    "pca50 = adata.obsm['X_pca']\n",
    "pca50 = pca50/pca50[:,0].std()\n",
    "\n",
    "pd.DataFrame(pca50[:50562,:],index=data1.columns, columns=['D'+str(i) for i in range(pca50.shape[1])]).to_csv(\n",
    " './figures/fincher_2018.pca.txt',index_label=False,sep='\\t')\n",
    "pd.DataFrame(pca50[50562:,:],index=data2.columns, columns=['D'+str(i) for i in range(pca50.shape[1])]).to_csv(\n",
    " './figures/plass_2018.pca.txt',index_label=False,sep='\\t')\n",
    "\n",
    "\n",
    "#Run GraphDR on each dataset\n",
    "dr1 = graphdr(pca50[:50562,:], n_neighbors=15,_lambda=100,refine_iter=0,no_rotation=True,rescale=False)\n",
    "dr2 = graphdr(pca50[50562:,:], n_neighbors=15,_lambda=100,refine_iter=0,no_rotation=True,rescale=False)\n",
    "pd.DataFrame(dr1,index=data1.columns, columns=['D'+str(i) for i in range(dr1.shape[1])]).to_csv(\n",
    " './figures/fincher_2018.graphdr.txt',index_label=False,sep='\\t')\n",
    "pd.DataFrame(dr2,index=data2.columns, columns=['D'+str(i) for i in range(dr2.shape[1])]).to_csv(\n",
    " './figures/plass_2018.graphdr.txt',index_label=False,sep='\\t')\n",
    "\n",
    "\n",
    "#Run t-SNE on each dataset\n",
    "adata1 = sc.AnnData(pca50[:50562,:])\n",
    "sc.tl.tsne(adata1)\n",
    "adata2 = sc.AnnData(pca50[50562:,:])\n",
    "sc.tl.tsne(adata2)\n",
    "\n",
    "pd.DataFrame(adata1.obsm['X_tsne'],index=data1.columns, columns=['D'+str(i) for i in range(2)]).to_csv(\n",
    " './figures/fincher_2018.tsne.txt',index_label=False,sep='\\t')\n",
    "pd.DataFrame(adata2.obsm['X_tsne'],index=data2.columns, columns=['D'+str(i) for i in range(2)]).to_csv(\n",
    " './figures/plass_2018.tsne.txt',index_label=False,sep='\\t')"
   ]
  },
  {
   "cell_type": "code",
   "execution_count": 4,
   "metadata": {},
   "outputs": [],
   "source": [
    "#GraphDR with dataset alignment \n",
    "from scipy.sparse import csr_matrix\n",
    "from sklearn.neighbors import NearestNeighbors\n",
    "from quasildr.graphdr import knn_graph\n",
    "m='euclidean'\n",
    "adata.obs['batch'] = np.concatenate([np.repeat('Fincher_et_al',50562),np.repeat('Plass_et_al',21612)])\n",
    "\n",
    "k=50\n",
    "\n",
    "nn_batch={}\n",
    "batchs = np.unique(adata.obs['batch'])\n",
    "for s in batchs:\n",
    "    nn_batch[s]=NearestNeighbors(k,metric=m).fit(pca50[adata.obs['batch'].values==s,:])\n",
    "\n",
    "s=[]\n",
    "t=[]\n",
    "w=[]\n",
    "for i in range(len(batchs)-1):\n",
    "    dis, ind = nn_batch[batchs[i]].kneighbors(pca50[adata.obs['batch'].values==batchs[i+1],:], k)\n",
    "    s.append(np.repeat(np.argwhere(adata.obs['batch'].values==batchs[i+1]), ind.shape[1]))\n",
    "    t.append(np.argwhere(adata.obs['batch'].values==batchs[i])[ind].flatten())\n",
    "    w.append(np.ones(k*np.sum(adata.obs['batch'].values==batchs[i+1])))\n",
    "\n",
    "for i in range(1, len(batchs)):\n",
    "    dis, ind = nn_batch[batchs[i]].kneighbors(pca50[adata.obs['batch'].values==batchs[i-1],:], k)\n",
    "    s.append(np.repeat(np.argwhere(adata.obs['batch'].values==batchs[i-1]), ind.shape[1]))\n",
    "    t.append(np.argwhere(adata.obs['batch'].values==batchs[i])[ind].flatten())\n",
    "    w.append(np.ones(k*np.sum(adata.obs['batch'].values==batchs[i-1])))\n",
    "\n",
    "g = csr_matrix((np.concatenate(w),(np.concatenate(s).astype(np.int),np.concatenate(t).astype(np.int))),(adata.obsm['X_pca'].shape[0],adata.obsm['X_pca'].shape[0]))\n",
    "g0 = knn_graph(pca50)\n"
   ]
  },
  {
   "cell_type": "code",
   "execution_count": 5,
   "metadata": {},
   "outputs": [],
   "source": [
    "dr3 = graphdr(pca50, custom_graph=g.multiply(g.T)+g0,_lambda=100,refine_iter=0,no_rotation=True,rescale=False)\n",
    "dr31 = dr3[:50562,:]\n",
    "dr32 = dr3[50562:,:]"
   ]
  },
  {
   "cell_type": "code",
   "execution_count": 6,
   "metadata": {},
   "outputs": [
    {
     "ename": "NameError",
     "evalue": "name 'data0' is not defined",
     "output_type": "error",
     "traceback": [
      "\u001b[0;31m---------------------------------------------------------------------------\u001b[0m",
      "\u001b[0;31mNameError\u001b[0m                                 Traceback (most recent call last)",
      "\u001b[0;32m<ipython-input-6-77c5afc7a111>\u001b[0m in \u001b[0;36m<module>\u001b[0;34m\u001b[0m\n\u001b[1;32m      1\u001b[0m pd.DataFrame(dr31,index=data1.columns, columns=['D'+str(i) for i in range(dr31.shape[1])]).to_csv(\n\u001b[1;32m      2\u001b[0m  './figures/fincher_2018.aligned.graphdr.txt',index_label=False,sep='\\t')\n\u001b[0;32m----> 3\u001b[0;31m pd.DataFrame(dr32,index=data0.columns, columns=['D'+str(i) for i in range(dr32.shape[1])]).to_csv(\n\u001b[0m\u001b[1;32m      4\u001b[0m  './figures/plass_2018.aligned.graphdr.txt',index_label=False,sep='\\t')\n",
      "\u001b[0;31mNameError\u001b[0m: name 'data0' is not defined"
     ]
    }
   ],
   "source": [
    "pd.DataFrame(dr31,index=data1.columns, columns=['D'+str(i) for i in range(dr31.shape[1])]).to_csv(\n",
    " './figures/fincher_2018.aligned.graphdr.txt',index_label=False,sep='\\t')\n",
    "pd.DataFrame(dr32,index=data0.columns, columns=['D'+str(i) for i in range(dr32.shape[1])]).to_csv(\n",
    " './figures/plass_2018.aligned.graphdr.txt',index_label=False,sep='\\t')"
   ]
  },
  {
   "cell_type": "code",
   "execution_count": null,
   "metadata": {},
   "outputs": [],
   "source": []
  }
 ],
 "metadata": {
  "kernelspec": {
   "display_name": "Python 3",
   "language": "python",
   "name": "python3"
  },
  "language_info": {
   "codemirror_mode": {
    "name": "ipython",
    "version": 3
   },
   "file_extension": ".py",
   "mimetype": "text/x-python",
   "name": "python",
   "nbconvert_exporter": "python",
   "pygments_lexer": "ipython3",
   "version": "3.7.3"
  }
 },
 "nbformat": 4,
 "nbformat_minor": 4
}
